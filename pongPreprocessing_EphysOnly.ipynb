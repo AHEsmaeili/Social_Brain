{
 "cells": [
  {
   "cell_type": "code",
   "execution_count": null,
   "id": "756a1f96-7e30-496e-9527-063a4fa26722",
   "metadata": {},
   "outputs": [],
   "source": [
    "import sys\n",
    "import os\n",
    "from os.path import join, dirname, realpath, exists\n",
    "import json\n",
    "import glob\n",
    "import numpy as np\n",
    "import matplotlib.pyplot as plt\n",
    "import pandas as pd\n",
    "import mne\n",
    "from mne.preprocessing import (ICA, corrmap, create_ecg_epochs,\n",
    "                               create_eog_epochs)\n",
    "from mne.datasets.brainstorm import bst_auditory\n",
    "from mne.io import read_raw_ctf\n",
    "from mne.preprocessing import annotate_muscle_zscore\n",
    "\n",
    "mne.set_log_level('error')  # reduce extraneous MNE output\n",
    "\n",
    "%matplotlib widget\n",
    "\n",
    "# Example_dir = dirname(realpath(__file__)) # directory of this file\n",
    "modules_dir = '/' # directory with all modules\n",
    "measurements_dir = './data_Sorted/' # directory with all measurements\n",
    "sys.path.append(modules_dir)\n",
    "\n",
    "from TMSiFileFormats.file_readers import Poly5Reader\n",
    "from autoreject import get_rejection_threshold"
   ]
  },
  {
   "attachments": {},
   "cell_type": "markdown",
   "id": "1a11ff88-106f-4fb1-9517-04f9f4609754",
   "metadata": {},
   "source": [
    "# Load dataset and montage setting"
   ]
  },
  {
   "cell_type": "code",
   "execution_count": null,
   "id": "ea977b41-8bca-4967-b360-a16d520306cd",
   "metadata": {},
   "outputs": [],
   "source": [
    "subjectFolders = glob.glob(measurements_dir + 'pongFac23*')"
   ]
  },
  {
   "cell_type": "code",
   "execution_count": null,
   "id": "57135e6b-3266-45c9-9671-3b3b60a02c31",
   "metadata": {},
   "outputs": [],
   "source": [
    "subjectInd = 8\n",
    "subjectDir = subjectFolders[subjectInd]\n",
    "subjectID = subjectDir.split('_')[-1]\n",
    "ephysDir = os.path.join(subjectDir, 'EEG', subjectID)\n",
    "behavDir = os.path.join(subjectDir, 'Pong')\n",
    "\n",
    "sub_Ephys = glob.glob(ephysDir +  '*.Poly5')[0]\n",
    "sub_Trigs = glob.glob(ephysDir +  '*.csv')[0]\n",
    "# sub_fifs = glob.glob(subjectDir + 'p01*.fif')\n",
    "sub_Trials = glob.glob(behavDir + '/test_*kin_*.csv')\n",
    "sub_Behav = sub_Trials[0].split('_kin_')[0]+'.csv'\n",
    "sub_Trials = sorted(sub_Trials, key=lambda fname: int(fname.split('_kin_')[-1].split('.')[0]))"
   ]
  },
  {
   "cell_type": "code",
   "execution_count": null,
   "id": "9bb929e9-5488-4834-9a19-61329580e9aa",
   "metadata": {
    "tags": []
   },
   "outputs": [],
   "source": [
    "dataPath = sub_Ephys\n",
    "data = Poly5Reader(dataPath)\n",
    "\n",
    "# When no arguments are given, a pop-up window allows you to select the file you want to read. \n",
    "# You can also use data=Poly5Reader(full_path) to load a file. Note that the full file path is required here.\n",
    "\n",
    "# Extract the samples and channel names from the Poly5Reader object\n",
    "samples = data.samples\n",
    "ch_names = data.ch_names\n",
    "\n",
    "#%% Reordering textile grid channels\n",
    "\n",
    "isTextileGrid = False\n",
    "\n",
    "if isTextileGrid:\n",
    "    channel_conversion_list = np.arange(0,len(ch_names), dtype = int)\n",
    "    \n",
    "    # Detect row and column number based on channel name \n",
    "    RCch = []\n",
    "    for i, ch in enumerate(ch_names):\n",
    "        if ch.find('R') == 0:\n",
    "            R,C = ch[1:].split('C')\n",
    "            RCch.append((R,str(C).zfill(2),i))\n",
    "    \n",
    "    # Sort data based on row and column\n",
    "    RCch.sort()\n",
    "    for ch in range(len(RCch)):\n",
    "        channel_conversion_list[ch] = RCch[ch][2]\n",
    "    \n",
    "    # Change the ordering of the first 32 channels (all channels on the textile grid)\n",
    "    samples = samples[channel_conversion_list,:]\n",
    "    ch_names = [ch_names[i] for i in channel_conversion_list]\n",
    "    \n",
    "    print(ch_names)\n",
    "    "
   ]
  },
  {
   "cell_type": "code",
   "execution_count": null,
   "id": "990f3d75-1b86-4581-8b09-a822217c117a",
   "metadata": {
    "tags": []
   },
   "outputs": [],
   "source": [
    "# Conversion to MNE raw array\n",
    "raw = data.read_data_MNE()"
   ]
  },
  {
   "cell_type": "code",
   "execution_count": null,
   "id": "7155689b-d139-45a6-ad1e-234e2d83fe87",
   "metadata": {
    "tags": []
   },
   "outputs": [],
   "source": [
    "channels = np.array(raw.ch_names)\n",
    "eegChs = channels[:64]\n",
    "miscChs = channels[64:]\n",
    "\n",
    "chTypes = {}\n",
    "for channel in channels:\n",
    "    if channel not in miscChs:\n",
    "        chTypes[channel] = 'eeg'\n",
    "    elif channel == 'STATUS':\n",
    "        chTypes[channel] = 'stim'\n",
    "    else:\n",
    "        chTypes[channel] = 'misc'\n",
    "raw.set_channel_types(chTypes)\n",
    "raw.set_montage('standard_1005')"
   ]
  },
  {
   "cell_type": "code",
   "execution_count": null,
   "id": "c61af0c1-a383-4343-ada0-ee654777646e",
   "metadata": {},
   "outputs": [],
   "source": [
    "nTrials = 160\n",
    "behDF = pd.read_csv(sub_Behav, nrows = nTrials)\n",
    "trigDF = pd.read_csv(sub_Trigs)\n",
    "conds = behDF['cond']\n",
    "trialRes = behDF['result']"
   ]
  },
  {
   "cell_type": "code",
   "execution_count": null,
   "id": "2f52ec46-2c52-4bb2-9153-76131689d3be",
   "metadata": {
    "tags": []
   },
   "outputs": [],
   "source": [
    "behTrialData = []\n",
    "for trialFile in sub_Trials:\n",
    "    behTrialData.append(pd.read_csv(trialFile))\n",
    "\n",
    "feedbackInds = np.zeros((nTrials,))\n",
    "feedbackTimes = np.zeros((nTrials,))\n",
    "\n",
    "for trialInd, trialDF in enumerate(behTrialData):\n",
    "    \n",
    "    trialResult = trialDF['result'].to_numpy()[-1]\n",
    "    \n",
    "    if type(trialResult) == str:\n",
    "        firstFBFrame = np.where(trialDF['result'] == trialResult)[0][0]\n",
    "        feedbackInds[trialInd] = firstFBFrame\n",
    "        feedbackTimes[trialInd] = trialDF.iloc[firstFBFrame]['t']\n",
    "    else:\n",
    "        firstFBFrame = np.where(trialDF['by'] <= -508)[0][0]\n",
    "        feedbackInds[trialInd] = firstFBFrame\n",
    "        feedbackTimes[trialInd] = trialDF.iloc[firstFBFrame]['t']\n",
    "\n",
    "nanTimes = np.where(feedbackTimes == 0)[0]"
   ]
  },
  {
   "cell_type": "code",
   "execution_count": null,
   "id": "06855393-2356-45f6-bf72-4562676e2939",
   "metadata": {},
   "outputs": [],
   "source": [
    "events = mne.find_events(raw, output = 'onset')\n",
    "\n",
    "if events.shape[0] != 507:\n",
    "    events = events[1:,:]\n",
    "\n",
    "trigs = events[:,0]\n",
    "\n",
    "bFbTimes = behDF['feedbackTime']\n",
    "bThTimes = behDF['threshTime']\n",
    "tg1Times = behDF['startTrig0']\n",
    "\n",
    "fb2Thresh = bFbTimes - bThTimes\n",
    "\n",
    "tsDiffs = np.diff(trigs)\n",
    "sTrigs = np.where(tsDiffs <= 25)[0]\n",
    "eTrigs2 = np.where((tsDiffs <= 3000) & (tsDiffs >= 900))[0]\n",
    "eTrigs = sTrigs + 2\n",
    "\n",
    "np.all((eTrigs2+1) == eTrigs)\n",
    "\n",
    "events[sTrigs,2] = 1\n",
    "events[sTrigs+1,2] = 2\n",
    "events[eTrigs,2] = 3\n",
    "sEvents = events[sTrigs]\n",
    "eEvents = events[eTrigs]\n",
    "event_dict = {'BallStart': 1, 'BallThresh': 2, 'Feedback': 3}"
   ]
  },
  {
   "cell_type": "code",
   "execution_count": null,
   "id": "cb3bcadf-8553-4e10-8063-a213b45a4dcc",
   "metadata": {},
   "outputs": [],
   "source": [
    "fb2Thresh = np.round((feedbackTimes - bThTimes)* raw.info['sfreq'])\n",
    "feedbackTimestamps = (fb2Thresh + events[eTrigs,0][-nTrials:]).to_numpy()\n",
    "\n",
    "fbEvents = eEvents[-nTrials:].copy()\n",
    "fbEvents[:,0] = feedbackTimestamps\n",
    "\n",
    "bmEvents = sEvents[-nTrials:].copy()\n",
    "\n",
    "resDict = {'p': 1, 'n': -1}\n",
    "condDict = {'Presence':1, 'Absence':0}\n",
    "resArray = [resDict[trialRes[eInd]] for eInd, _ in enumerate(trialRes)]\n",
    "fbEvents[-nTrials:,2] = resArray\n",
    "bmEvents[-nTrials:,2] = resArray\n",
    "\n",
    "trialCond = behDF['cond']\n",
    "\n",
    "pBMEvs = bmEvents[trialCond == condDict['Presence']]\n",
    "aBMEvs = bmEvents[trialCond == condDict['Absence']]\n",
    "\n",
    "pFBEvs = fbEvents[trialCond == condDict['Presence']]\n",
    "aFBEvs = fbEvents[trialCond == condDict['Absence']]"
   ]
  },
  {
   "cell_type": "code",
   "execution_count": null,
   "id": "84f7a938-15b0-4fd8-89ed-556fbed0fdfe",
   "metadata": {},
   "outputs": [],
   "source": [
    "raw.compute_psd(fmax = 100).plot();"
   ]
  },
  {
   "cell_type": "code",
   "execution_count": null,
   "id": "5efe0fdc-6fa2-4922-b12d-043e5e49903f",
   "metadata": {},
   "outputs": [],
   "source": [
    "raw.info['bads'] = []\n",
    "# raw.info['bads'].extend(['P7'])\n",
    "# raw.info['bads'].extend(['F8', 'M2', 'PO7'])\n",
    "# raw.info['bads'].extend(['F8','M1', 'M2', 'PO7', 'Pz', 'O1', 'P6'])\n",
    "raw.interpolate_bads()\n",
    "raw.set_eeg_reference(ref_channels='average')"
   ]
  },
  {
   "cell_type": "code",
   "execution_count": null,
   "id": "23cddd45-e637-4dae-8154-b7a4989683ef",
   "metadata": {},
   "outputs": [],
   "source": [
    "def plotEEG(data, seColor = {1:'tomato', 2:'magenta', 3:'green'}, sdColor = 'b', events = None, butterfly = False, highpass = None, lowpass = None):\n",
    "    data.plot(events=events, event_color = seColor, theme = 'dark', color = sdColor, butterfly = butterfly, highpass = highpass, lowpass = lowpass);"
   ]
  },
  {
   "cell_type": "code",
   "execution_count": null,
   "id": "ae5737bc-03e3-42a9-be84-d9e97f3bc833",
   "metadata": {},
   "outputs": [],
   "source": [
    "plotEEG(raw, events = fbEvents, seColor = {1:'tomato', -1:'b'}, highpass = 0.1, lowpass = 45)"
   ]
  },
  {
   "cell_type": "code",
   "execution_count": null,
   "id": "bd654ae7-f03c-4238-b63c-e8d0b9e4c627",
   "metadata": {},
   "outputs": [],
   "source": [
    "low_cut = 0.1\n",
    "high_cut = 80\n",
    "nJobs = 8\n",
    "\n",
    "raw_filt = raw.copy().filter(low_cut, high_cut)\n",
    "\n",
    "method = 'spectrum_fit'\n",
    "# method = 'iir'\n",
    "\n",
    "freqs = None\n",
    "freqs = [50]\n",
    "\n",
    "raw_filt.notch_filter(method = method, freqs = freqs, n_jobs = nJobs)\n",
    "# raw_filt.compute_psd(fmax=100, picks = channels).plot();\n",
    "\n",
    "# raw_filt.save\n",
    "\n",
    "low_cut = 1\n",
    "method = 'spectrum_fit'\n",
    "freqs = [50]\n",
    "\n",
    "rawCopy = raw.copy().filter(low_cut, None)\n",
    "rawCopy.notch_filter(method = method, freqs = freqs, n_jobs=nJobs)"
   ]
  },
  {
   "cell_type": "code",
   "execution_count": null,
   "id": "eb12209b-7dc7-41fd-a681-30a31bee4b75",
   "metadata": {},
   "outputs": [],
   "source": [
    "ica = ICA(n_components=15, method = 'picard', max_iter='auto', random_state=97)\n",
    "\n",
    "\n",
    "# icaEvts = mne.make_fixed_length_events(rawCopy, start = 25, stop = 900)\n",
    "# icaEpochs = mne.Epochs(rawCopy, events=icaEvts, baseline = None)\n",
    "# icaEpochs = mne.make_fixed_length_epochs(rawCopy)\n",
    "# reject = get_rejection_threshold(icaEpochs);\n",
    "# icaData = icaEpochs\n",
    "\n",
    "icaData = rawCopy\n",
    "\n",
    "# ica.fit(icaData, reject = reject)\n",
    "ica.fit(icaData)"
   ]
  },
  {
   "cell_type": "code",
   "execution_count": null,
   "id": "0af9e530-db83-4e22-b4ad-23b21c121108",
   "metadata": {},
   "outputs": [],
   "source": [
    "ica.save(subjectDir + '/EEG/' + sub_Ephys.split('/')[-1].split('.')[0] + '-ica.fif', \n",
    "        overwrite=True);"
   ]
  },
  {
   "attachments": {},
   "cell_type": "markdown",
   "id": "3affee17-5abc-4cbb-965c-5f0a0aa187c0",
   "metadata": {
    "tags": []
   },
   "source": [
    "# ICA and plot"
   ]
  },
  {
   "cell_type": "code",
   "execution_count": null,
   "id": "9bc66dbe-90a9-478e-9d95-3ef886ab0295",
   "metadata": {},
   "outputs": [],
   "source": [
    "ica = mne.preprocessing.read_ica(subjectDir + '/EEG/' + sub_Ephys.split('/')[-1].split('.')[0] + '-ica.fif');"
   ]
  },
  {
   "cell_type": "code",
   "execution_count": null,
   "id": "1e392de6-abd3-4e10-b7fb-3d7f619cb56a",
   "metadata": {},
   "outputs": [],
   "source": [
    "ica.plot_sources(raw, show_scrollbars=True)"
   ]
  },
  {
   "cell_type": "code",
   "execution_count": null,
   "id": "e69ca664-df6d-48b6-b25e-10f920e0263c",
   "metadata": {},
   "outputs": [],
   "source": [
    "ica.plot_components()"
   ]
  },
  {
   "cell_type": "code",
   "execution_count": null,
   "id": "6c0bb6df-bdcc-4556-9173-3770bda5b110",
   "metadata": {},
   "outputs": [],
   "source": [
    "ica.exclude = [0,1] # SubID 1\n",
    "# ica.exclude = [0,1,2,3,4]\n",
    "ica.exclude = [0,1,3,6] # SubID 4\n",
    "ica.exclude = [0,1,2] # SubID 8\n",
    "\n",
    "# ica.exclude = [0,1,2,3,4,5,6,9,8,10,11,12, 13, 14]\n",
    "\n",
    "\n",
    "# ica.apply(raw_filt)\n",
    "ica.apply(raw)"
   ]
  },
  {
   "cell_type": "code",
   "execution_count": null,
   "id": "480266ae-eb1d-4fce-92c3-f6cb2349ac8c",
   "metadata": {},
   "outputs": [],
   "source": [
    "plotEEG(raw, events = events)\n",
    "plotEEG(raw_filt, events = events)"
   ]
  },
  {
   "attachments": {},
   "cell_type": "markdown",
   "id": "0e90759e-c900-46be-a2f0-3f6fefa05b18",
   "metadata": {},
   "source": [
    "## Feedback ERPs"
   ]
  },
  {
   "cell_type": "code",
   "execution_count": null,
   "id": "02a343b3-d2ed-4a35-8278-ab65ac6af835",
   "metadata": {},
   "outputs": [],
   "source": [
    "fbID = {'Interception': 1, 'Miss': -1}\n",
    "fbID = [-1]\n",
    "baseline = (None, 0)\n",
    "# baseline = (-0.5, -0.2)\n",
    "tmin = -0.2\n",
    "tmax = 0.5\n",
    "\n",
    "selData = raw.filter(1,40)\n",
    "# selData = raw_filt.filter(1,40)\n",
    "# selData = rawCopy.filter(1,15)\n",
    "# plotChannels = ['FC1', 'FC2', 'FC3', 'FC4', 'FCz']\n",
    "plotChannels = ['P1', 'P2', 'P3', 'P4', 'P5', 'P6', 'P7', 'Pz']\n",
    "# plotChannels = eegChs\n",
    "\n",
    "\n",
    "pEvents = pFBEvs\n",
    "aEvents = aFBEvs\n",
    "\n",
    "# pEvents = pBMEvs\n",
    "# aEvents = aBMEvs\n",
    "\n",
    "\n",
    "pEpochs = mne.Epochs(selData, pEvents, fbID, tmax = tmax,\n",
    "                        tmin = tmin, baseline=baseline,\n",
    "                        preload=True)\n",
    "\n",
    "aEpochs = mne.Epochs(selData, aEvents, fbID, tmax = tmax,\n",
    "                        tmin = tmin, baseline=baseline,\n",
    "                        preload=True)\n",
    "\n",
    "pERP = pEpochs.average()\n",
    "aERP = aEpochs.average()"
   ]
  },
  {
   "cell_type": "code",
   "execution_count": null,
   "id": "f9111e35-a4fd-4f69-a441-8c3e12dc44ca",
   "metadata": {},
   "outputs": [],
   "source": [
    "mne.viz.plot_compare_evokeds({'Presence': pERP, 'Absence':aERP}, \n",
    "                             picks=plotChannels);"
   ]
  },
  {
   "cell_type": "code",
   "execution_count": null,
   "id": "9c4d7e0e-1f83-42a8-a91a-9bc62b55cf70",
   "metadata": {},
   "outputs": [],
   "source": [
    "pERP.plot_joint(picks = plotChannels);\n",
    "aERP.plot_joint(picks = plotChannels);"
   ]
  }
 ],
 "metadata": {
  "kernelspec": {
   "display_name": "Python 3 (ipykernel)",
   "language": "python",
   "name": "python3"
  },
  "language_info": {
   "codemirror_mode": {
    "name": "ipython",
    "version": 3
   },
   "file_extension": ".py",
   "mimetype": "text/x-python",
   "name": "python",
   "nbconvert_exporter": "python",
   "pygments_lexer": "ipython3",
   "version": "3.9.16"
  }
 },
 "nbformat": 4,
 "nbformat_minor": 5
}
